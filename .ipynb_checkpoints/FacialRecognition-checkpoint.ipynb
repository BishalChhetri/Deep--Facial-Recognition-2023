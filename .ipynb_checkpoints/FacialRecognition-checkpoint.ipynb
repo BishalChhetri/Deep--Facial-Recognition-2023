{
 "cells": [
  {
   "cell_type": "code",
   "execution_count": 46,
   "id": "dd22fe9d-4c44-4913-8f0e-d12729f721d6",
   "metadata": {},
   "outputs": [],
   "source": [
    "import tensorflow as tf\n",
    "import random\n",
    "import numpy as np\n",
    "import matplotlib.pyplot as plt\n",
    "import os\n",
    "import cv2\n",
    "import uuid"
   ]
  },
  {
   "cell_type": "code",
   "execution_count": 47,
   "id": "5f2db0e4-c24a-4d37-9482-466c26db5204",
   "metadata": {},
   "outputs": [],
   "source": [
    "# Import tensorflow dependencies - Functional API\n",
    "from tensorflow.keras.models import Model\n",
    "from tensorflow.keras.layers import Layer, Conv2D, MaxPooling2D, Flatten, Dense, Input"
   ]
  },
  {
   "cell_type": "code",
   "execution_count": 48,
   "id": "c1140325-1180-489a-891f-2c334e6bd506",
   "metadata": {},
   "outputs": [],
   "source": [
    "# Avoid OOM erros by setting GPU Memory Consumption Growth\n",
    "gpus = tf.config.experimental.list_physical_devices(\"GPU\")\n",
    "for gpu in gpus:\n",
    "    tf.config.experimental.set_memory_growth(gpu, True)"
   ]
  },
  {
   "cell_type": "code",
   "execution_count": 49,
   "id": "26b97bef-2f3e-45d3-8320-743b88d88a73",
   "metadata": {},
   "outputs": [],
   "source": [
    "# Setup paths\n",
    "POS_PATH = os.path.join('data', 'positive')\n",
    "NEG_PATH = os.path.join('data', 'negative')\n",
    "ANC_PATH = os.path.join('data', 'anchor')"
   ]
  },
  {
   "cell_type": "code",
   "execution_count": null,
   "id": "a9d9a302-45fb-46e8-99de-b05fb88184bf",
   "metadata": {},
   "outputs": [],
   "source": [
    "# MAke the directories\n",
    "os.makedirs(POS_PATH)\n",
    "os.makedirs(NEG_PATH)\n",
    "os.makedirs(ANC_PATH)"
   ]
  },
  {
   "cell_type": "code",
   "execution_count": 51,
   "id": "6e12707b-b3c4-48df-87fb-f89649fc4903",
   "metadata": {},
   "outputs": [],
   "source": [
    "# Uncompress Tar GZ labelled Faces in the wild Dataset\n",
    "!tar -xf lfw.tgz"
   ]
  },
  {
   "cell_type": "code",
   "execution_count": 52,
   "id": "97ca91ea-a87b-4839-8ea6-b8389c61c75e",
   "metadata": {},
   "outputs": [],
   "source": [
    "# Move LFW Images to the following repository data/negative\n",
    "for directory in os.listdir('lfw'):\n",
    "    for file in os.listdir(os.path.join('lfw', directory)):\n",
    "        EX_PATH = os.path.join('lfw', directory, file)\n",
    "        NEW_PATH = os.path.join(NEG_PATH, file)\n",
    "        os.replace(EX_PATH, NEW_PATH)"
   ]
  },
  {
   "cell_type": "code",
   "execution_count": 53,
   "id": "46edcc16-3e6f-44c4-8000-cba5c7f914bb",
   "metadata": {},
   "outputs": [],
   "source": [
    "# Establish a connection to the Webcam\n",
    "cap = cv2.VideoCapture(0)\n",
    "while cap.isOpened():\n",
    "    ret, frame = cap.read()\n",
    "    \n",
    "    # Cut down frame to 250*250px\n",
    "    frame = frame[50:50+250,250:250+250,:]\n",
    "\n",
    "    # Collect anchors\n",
    "    if cv2.waitKey(1) & 0XFF == ord('a'):\n",
    "        imgname = os.path.join(ANC_PATH, '{}.jpg'.format(uuid.uuid1()))\n",
    "        cv2.imwrite(imgname, frame)\n",
    "\n",
    "    # Collect Positive gracefully\n",
    "    if cv2.waitKey(1) & 0XFF == ord('p'):\n",
    "        imgname = os.path.join(POS_PATH, '{}.jpg'.format(uuid.uuid1()))\n",
    "        cv2.imwrite(imgname, frame)\n",
    "    \n",
    "    # Show image back to screen\n",
    "    cv2.imshow(\"Image Collection\", frame)\n",
    "    \n",
    "    # Breaking gracefully\n",
    "    if cv2.waitKey(1) & 0XFF == ord('q'):\n",
    "        break\n",
    "# Webcam release\n",
    "cap.release()\n",
    "# Close the image show frame\n",
    "cv2.destroyAllWindows()"
   ]
  },
  {
   "cell_type": "code",
   "execution_count": 66,
   "id": "59d5e78e-eca2-44c1-a906-a35b6ea09679",
   "metadata": {},
   "outputs": [],
   "source": [
    "anchor = tf.data.Dataset.list_files(ANC_PATH+'\\*.jpg').take(300)\n",
    "positive = tf.data.Dataset.list_files(POS_PATH+'\\*.jpg').take(300)\n",
    "negative = tf.data.Dataset.list_files(NEG_PATH+'\\*.jpg').take(300)"
   ]
  },
  {
   "cell_type": "code",
   "execution_count": 118,
   "id": "8053cfc5-866b-415c-95f2-4cadc12e942f",
   "metadata": {},
   "outputs": [],
   "source": [
    "def preprocess(file_path):\n",
    "    \n",
    "    # Read in image from file path\n",
    "    byte_img = tf.io.read_file(file_path)\n",
    "\n",
    "    # Load in the image\n",
    "    img = tf.io.decode_jpeg(byte_img)\n",
    "\n",
    "    # Preprocessing steps - resizing the image to be 100x100x3\n",
    "    img = tf.image.resize(img, (105,105))\n",
    "    img = img / 255.0\n",
    "    return img"
   ]
  },
  {
   "cell_type": "code",
   "execution_count": 119,
   "id": "b9dc7130-87a5-41d4-9b35-cb1b937c14e2",
   "metadata": {},
   "outputs": [],
   "source": [
    "# (anchor, positive) => 1,1,1,1,1\n",
    "# (anchor, negative) => 0,0,0,0,0"
   ]
  },
  {
   "cell_type": "code",
   "execution_count": 120,
   "id": "eb90c964-66b0-42a0-9057-a90c26f85300",
   "metadata": {},
   "outputs": [],
   "source": [
    "positives = tf.data.Dataset.zip((anchor, positive, tf.data.Dataset.from_tensor_slices(tf.ones(len(anchor)))))\n",
    "negatives = tf.data.Dataset.zip((anchor, negative, tf.data.Dataset.from_tensor_slices(tf.zeros(len(anchor)))))\n",
    "data = positives.concatenate(negatives)"
   ]
  },
  {
   "cell_type": "code",
   "execution_count": 121,
   "id": "96466fb5-2a36-4050-8353-71e68cb2e51d",
   "metadata": {},
   "outputs": [],
   "source": [
    "def preprocess_twin(input_img, validation_img, label):\n",
    "    return(preprocess(input_img),preprocess(validation_img), label)"
   ]
  },
  {
   "cell_type": "code",
   "execution_count": 122,
   "id": "bd5196e7-45c6-4646-bd92-51452cf5bf3c",
   "metadata": {},
   "outputs": [],
   "source": [
    "# Build dataloader pipeline\n",
    "data = data.map(preprocess_twin)\n",
    "data = data.cache()\n",
    "data = data.shuffle(buffer_size=1024)"
   ]
  },
  {
   "cell_type": "code",
   "execution_count": 123,
   "id": "00b7c764-0c70-4d0f-b499-7e1894501be6",
   "metadata": {},
   "outputs": [],
   "source": [
    "# Training partition\n",
    "train_data = data.take(round(len(data)*.7))\n",
    "train_data = train_data.batch(16)\n",
    "train_data = train_data.prefetch(8)"
   ]
  },
  {
   "cell_type": "code",
   "execution_count": 125,
   "id": "7ea73af4-633e-4cd5-81e8-3658ee2cbbd3",
   "metadata": {},
   "outputs": [],
   "source": [
    "def make_embedding():\n",
    "    inp = Input(shape=(105,105,3), name=\"input_image\")\n",
    "\n",
    "    # First block\n",
    "    c1 = Conv2D(64, (10,10), activation=\"relu\")(inp)\n",
    "    m1 = MaxPooling2D(64, (2,2), padding=\"same\")(c1)\n",
    "\n",
    "    # Second block\n",
    "    c2 = Conv2D(128, (7,7), activation=\"relu\")(m1)\n",
    "    m2 = MaxPooling2D(64, (2,2), padding=\"same\")(c2)\n",
    "\n",
    "    # Third block\n",
    "    c3 = Conv2D(128, (4,4), activation=\"relu\")(m2)\n",
    "    m3 = MaxPooling2D(64, (2,2), padding=\"same\")(c3)\n",
    "\n",
    "    # Final block\n",
    "    c4 = Conv2D(256, (4,4), activation=\"relu\")(m3)\n",
    "    f1 = Flatten()(c4)\n",
    "    d1 = Dense(4096, activation=\"sigmoid\")(f1)\n",
    "    \n",
    "    return Model(inputs=[inp], outputs=[d1], name=\"embedding\")"
   ]
  },
  {
   "cell_type": "code",
   "execution_count": 132,
   "id": "122922a8-abd7-4874-bad3-f84bc0562f30",
   "metadata": {},
   "outputs": [],
   "source": [
    "embedding = make_embedding(()"
   ]
  },
  {
   "cell_type": "code",
   "execution_count": 64,
   "id": "0892e4b3-803c-4a33-a39e-1c973b6a4642",
   "metadata": {},
   "outputs": [],
   "source": [
    "# (anchor, positive) => 1,1,1,1,1\n",
    "# (anchor, negative) => 0,0,0,0,0"
   ]
  },
  {
   "cell_type": "code",
   "execution_count": 64,
   "id": "f4421bfb-ddc5-441c-bd45-7dfd255040a8",
   "metadata": {},
   "outputs": [],
   "source": [
    "# (anchor, positive) => 1,1,1,1,1\n",
    "# (anchor, negative) => 0,0,0,0,0"
   ]
  },
  {
   "cell_type": "code",
   "execution_count": 131,
   "id": "eac67a56-68b3-47b0-8268-11c29761f72e",
   "metadata": {},
   "outputs": [],
   "source": [
    "# Siamese L1 Distance Layer\n",
    "class L1Dist(Layer):\n",
    "    def __init__(self, **kwargs):\n",
    "        super().__init__()\n",
    "\n",
    "    def call(self, input_embedding, validation_embedding):\n",
    "        return tf.math.abs(input_embedding - validation_embedding)"
   ]
  },
  {
   "cell_type": "code",
   "execution_count": 129,
   "id": "5662ae9f-7567-4951-b944-ba5980525da8",
   "metadata": {},
   "outputs": [],
   "source": [
    "def make_siamese_model():\n",
    "\n",
    "    # Handle inputs\n",
    "    input_image = Input(name=\"input_img\", shape=(105,105,3))\n",
    "    validation_image = Input(name=\"validation_img\", shape=(105,105,3))\n",
    "\n",
    "    # Combine siamese distance components\n",
    "    siamese_layer = L1Dist()\n",
    "    siamese_layer._name = \"distance\"\n",
    "    distances = siamese_layer(embedding(input_image), embedding(validation_image))\n",
    "    "
   ]
  },
  {
   "cell_type": "code",
   "execution_count": 130,
   "id": "ef5a0285-ef16-4b23-bb35-18e538aabada",
   "metadata": {},
   "outputs": [
    {
     "ename": "NameError",
     "evalue": "name 'anchor_embedding' is not defined",
     "output_type": "error",
     "traceback": [
      "\u001b[1;31m---------------------------------------------------------------------------\u001b[0m",
      "\u001b[1;31mNameError\u001b[0m                                 Traceback (most recent call last)",
      "Cell \u001b[1;32mIn[130], line 1\u001b[0m\n\u001b[1;32m----> 1\u001b[0m l1(\u001b[43manchor_embedding\u001b[49m, validation_embedding)\n",
      "\u001b[1;31mNameError\u001b[0m: name 'anchor_embedding' is not defined"
     ]
    }
   ],
   "source": []
  },
  {
   "cell_type": "code",
   "execution_count": null,
   "id": "536e7581-ccc0-44a5-b61b-6f8eda09d85c",
   "metadata": {},
   "outputs": [],
   "source": []
  }
 ],
 "metadata": {
  "kernelspec": {
   "display_name": "Python 3 (ipykernel)",
   "language": "python",
   "name": "python3"
  },
  "language_info": {
   "codemirror_mode": {
    "name": "ipython",
    "version": 3
   },
   "file_extension": ".py",
   "mimetype": "text/x-python",
   "name": "python",
   "nbconvert_exporter": "python",
   "pygments_lexer": "ipython3",
   "version": "3.9.18"
  }
 },
 "nbformat": 4,
 "nbformat_minor": 5
}
